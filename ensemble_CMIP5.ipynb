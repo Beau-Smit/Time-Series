{
 "cells": [
  {
   "cell_type": "code",
   "execution_count": 2,
   "metadata": {},
   "outputs": [],
   "source": [
    "import cdsapi\n",
    "c = cdsapi.Client()"
   ]
  },
  {
   "cell_type": "markdown",
   "metadata": {},
   "source": [
    "Via the [Copernicus Climate Change Service](https://cds.climate.copernicus.eu/cdsapp#!/dataset/sis-agroclimatic-indicators?tab=overview):\n",
    "\n",
    "\"This dataset provides agroclimatic indicators used to characterise plant-climate interactions for global agriculture. Agroclimatic indicators are useful in conveying climate variability and change in the terms that are meaningful to the agricultural sector. The objective of this dataset is to provide these indicators at a global scale in an easily accessible and usable format for further downstream analysis and the forcing of agricultural impact models.\n",
    "\n",
    "ERA-interim reanalysis and bias-corrected climate datasets have been used to generate the agroclimatic indicators for historical and future time periods. The input data was provided through the Inter-Sectoral Impact Model Intercomparison Project (ISIMIP), of which the ISIMIP Fast Track product was used. This product contains daily, biased-corrected, climate data from 5 CMIP5 General Circulation Models covering the period 1951-2099 (historical run up to 2005). The agroclimatic indicators were also generated using the WFDEI (Watch Forcing Data methodology applied to ERA-Interim) for the 1981-2010 climatological period. A total of 26 indicators are provided in this dataset at a spatial resolution of 0.5°x0.5° on a lat-lon grid. The temporal resolution of the variables differs depending on the indicator - they are available at 10 consecutive days (10-day), seasonal or annual resolution.\n",
    "\n",
    "Agroclimatic indicators are often used in species distribution modelling to study phenological developments of plants under varying climate conditions. For many users in the agricultural community, assessments of crop development for the current or future cropping seasons are particularly important. This is especially true for the agro-policy and the agro-business communities, as early indications of production anomalies are of paramount importance for tax/subsidies and price volatility. The provision of pre-computed agroclimatic indicators make them readily available to the user and will facilitate the use of climate data by the agricultural community.\""
   ]
  },
  {
   "cell_type": "markdown",
   "metadata": {},
   "source": [
    "First - collect the fitted values for historical data:"
   ]
  },
  {
   "cell_type": "code",
   "execution_count": 4,
   "metadata": {},
   "outputs": [
    {
     "name": "stderr",
     "output_type": "stream",
     "text": [
      "2022-03-08 21:31:51,323 INFO Welcome to the CDS\n",
      "2022-03-08 21:31:51,325 INFO Sending request to https://cds.climate.copernicus.eu/api/v2/resources/sis-agroclimatic-indicators\n",
      "2022-03-08 21:31:51,448 INFO Request is queued\n",
      "2022-03-08 21:31:52,563 INFO Request is running\n",
      "2022-03-08 21:38:11,647 INFO Request is queued\n",
      "2022-03-08 21:40:12,240 INFO Request is running\n",
      "2022-03-08 21:42:12,999 INFO Request is completed\n",
      "2022-03-08 21:42:13,004 INFO Downloading https://download-0002.copernicus-climate.eu/cache-compute-0002/cache/data7/dataset-sis-agroclimatic-indicators-507a4629-756a-47f0-a2b2-25d779c195f3.zip to download.zip (6.5G)\n",
      "2022-03-08 21:42:44,231 WARNING Recovering from HTTP error [504 Gateway Time-out], attemps 0 of 500\n",
      "2022-03-08 21:42:44,234 WARNING Retrying in 120 seconds\n"
     ]
    }
   ],
   "source": [
    "c.retrieve(\n",
    "    'sis-agroclimatic-indicators',\n",
    "    {\n",
    "        'format': 'zip',\n",
    "        'variable': [\n",
    "            'biologically_effective_degree_days', 'frost_days', 'heavy_precipitation_days',\n",
    "            'ice_days', 'maximum_of_daily_maximum_temperature', 'maximum_of_daily_minimum_temperature',\n",
    "            'mean_of_daily_maximum_temperature', 'mean_of_daily_mean_temperature', 'mean_of_daily_minimum_temperature',\n",
    "            'mean_of_diurnal_temperature_range', 'minimum_of_daily_maximum_temperature', 'minimum_of_daily_minimum_temperature',\n",
    "            'precipitation_sum', 'simple_daily_intensity_index', 'summer_days',\n",
    "            'tropical_nights', 'very_heavy_precipitation_days', 'wet_days',\n",
    "        ],\n",
    "        'origin': 'gfdl_esm2m_model',\n",
    "        'experiment': 'historical',\n",
    "        'temporal_aggregation': '10_day',\n",
    "        'period': [\n",
    "            '195101_198012', '198101_201012',\n",
    "        ],\n",
    "        'version': '1.1',\n",
    "    },\n",
    "    'download.zip')"
   ]
  },
  {
   "cell_type": "code",
   "execution_count": null,
   "metadata": {},
   "outputs": [],
   "source": []
  }
 ],
 "metadata": {
  "interpreter": {
   "hash": "66520dd0b33ddabc308eaad2712b98e74c6cde738d930246cae03389f6b8a959"
  },
  "kernelspec": {
   "display_name": "Python 3.9.2 ('CAPP')",
   "language": "python",
   "name": "python3"
  },
  "language_info": {
   "codemirror_mode": {
    "name": "ipython",
    "version": 3
   },
   "file_extension": ".py",
   "mimetype": "text/x-python",
   "name": "python",
   "nbconvert_exporter": "python",
   "pygments_lexer": "ipython3",
   "version": "3.9.2"
  },
  "orig_nbformat": 4
 },
 "nbformat": 4,
 "nbformat_minor": 2
}
